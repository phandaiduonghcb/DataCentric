{
 "cells": [
  {
   "cell_type": "code",
   "execution_count": 1,
   "metadata": {},
   "outputs": [
    {
     "name": "stdout",
     "output_type": "stream",
     "text": [
      "Writing val_removed.txt\n"
     ]
    }
   ],
   "source": [
    "%%writefile val_removed.txt\n",
    "0_raw/val/i/b1b31c10-ce5d-11eb-b317-38f9d35ea60f.png\n",
    "0_raw/val/i/b190eca8-ce5d-11eb-b317-38f9d35ea60f.png\n",
    "0_raw/val/viii/b208a1f8-ce5d-11eb-b317-38f9d35ea60f.png\n",
    "0_raw/val/viii/b1f457de-ce5d-11eb-b317-38f9d35ea60f.png\n",
    "0_raw/val/i/b18a3566-ce5d-11eb-b317-38f9d35ea60f.png\n",
    "0_raw/val/iii/b3711048-ce5d-11eb-b317-38f9d35ea60f.png\n",
    "0_raw/val/viii/b20cb5fe-ce5d-11eb-b317-38f9d35ea60f.png\n",
    "0_raw/val/iv/b237f6ec-ce5d-11eb-b317-38f9d35ea60f.png\n",
    "0_raw/val/ix/b272b408-ce5d-11eb-b317-38f9d35ea60f.png\n",
    "0_raw/val/v/b2c9b9b0-ce5d-11eb-b317-38f9d35ea60f.png\n",
    "0_raw/val/ix/b2b5fa42-ce5d-11eb-b317-38f9d35ea60f.png\n",
    "0_raw/val/i/b177400a-ce5d-11eb-b317-38f9d35ea60f.png\n",
    "0_raw/val/i/b18436ac-ce5d-11eb-b317-38f9d35ea60f.png\n",
    "0_raw/val/i/b1b1c82e-ce5d-11eb-b317-38f9d35ea60f.png\n",
    "0_raw/val/i/b1a66e16-ce5d-11eb-b317-38f9d35ea60f.png"
   ]
  },
  {
   "cell_type": "code",
   "execution_count": null,
   "metadata": {},
   "outputs": [],
   "source": [
    "from io import BytesIO\n",
    "import PIL\n",
    "from IPython.display import display, Image\n",
    "import shutil, os\n",
    "import cv2\n",
    "\n",
    "def display_img_array(ima):\n",
    "    im = PIL.Image.fromarray(ima)\n",
    "    bio = BytesIO()\n",
    "    im.save(bio, format='png')\n",
    "    display(Image(bio.getvalue(), format='png'))\n",
    "\n",
    "\n",
    "with open('removed.txt','r') as f:\n",
    "    paths = f.read().split('\\n')[:-1]\n",
    "for path in paths:\n",
    "    t = path.split('/')\n",
    "    p = '/'.join(t[2:])\n",
    "    full_path = os.path.join('/DataCentric/data/val',p)\n",
    "    display_img_array(cv2.imread(full_path))\n",
    "    "
   ]
  }
 ],
 "metadata": {
  "kernelspec": {
   "display_name": "Python 3",
   "language": "python",
   "name": "python3"
  },
  "language_info": {
   "codemirror_mode": {
    "name": "ipython",
    "version": 3
   },
   "file_extension": ".py",
   "mimetype": "text/x-python",
   "name": "python",
   "nbconvert_exporter": "python",
   "pygments_lexer": "ipython3",
   "version": "3.9.16"
  },
  "orig_nbformat": 4,
  "vscode": {
   "interpreter": {
    "hash": "31f2aee4e71d21fbe5cf8b01ff0e069b9275f58929596ceb00d14d90e3e16cd6"
   }
  }
 },
 "nbformat": 4,
 "nbformat_minor": 2
}
